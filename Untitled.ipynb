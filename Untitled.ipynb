{
 "cells": [
  {
   "cell_type": "code",
   "execution_count": 1,
   "id": "mysterious-salvation",
   "metadata": {},
   "outputs": [],
   "source": [
    "import numpy as np\n",
    "import matplotlib.pyplot as plt\n",
    "\n",
    "from Upsampler_GWTC2 import Upsampler\n"
   ]
  },
  {
   "cell_type": "code",
   "execution_count": 2,
   "id": "floral-latter",
   "metadata": {},
   "outputs": [
    {
     "name": "stdout",
     "output_type": "stream",
     "text": [
      "Interferometers used: ['H1', 'L1', 'V1']\n",
      "Analysis time range:  (1242442821, 1242442986)\n",
      "Downloading strain data for H1\n",
      "Downloading strain data for L1\n",
      "Downloading strain data for V1\n",
      "Loading pesummary samples dictionary\n",
      "Plotting MAP waveform: saving to output/GW190521/MAPwaveform.png\n"
     ]
    },
    {
     "data": {
      "text/plain": [
       "<Figure size 432x288 with 0 Axes>"
      ]
     },
     "metadata": {},
     "output_type": "display_data"
    }
   ],
   "source": [
    "event = 'GW190521'\n",
    "GW = Upsampler(event, approx='C01:IMRPhenomPv3HM')\n",
    "GW.plot_MAP_waveform(bandpass=(10, 500), tlim=(-0.25, 0.05), ylim=(-5,5))"
   ]
  },
  {
   "cell_type": "code",
   "execution_count": 3,
   "id": "minimal-microwave",
   "metadata": {},
   "outputs": [
    {
     "ename": "NameError",
     "evalue": "name 'Times' is not defined",
     "output_type": "error",
     "traceback": [
      "\u001b[0;31m---------------------------------------------------------------------------\u001b[0m",
      "\u001b[0;31mNameError\u001b[0m                                 Traceback (most recent call last)",
      "\u001b[0;32m<ipython-input-3-0bdab9da93f6>\u001b[0m in \u001b[0;36m<module>\u001b[0;34m\u001b[0m\n\u001b[0;32m----> 1\u001b[0;31m \u001b[0mmod\u001b[0m \u001b[0;34m=\u001b[0m \u001b[0mGW\u001b[0m\u001b[0;34m.\u001b[0m\u001b[0mwaveform\u001b[0m\u001b[0;34m(\u001b[0m\u001b[0mIFO\u001b[0m\u001b[0;34m=\u001b[0m\u001b[0;34m'L1'\u001b[0m\u001b[0;34m,\u001b[0m \u001b[0mindex\u001b[0m\u001b[0;34m=\u001b[0m\u001b[0;32mNone\u001b[0m\u001b[0;34m,\u001b[0m \u001b[0mwhiten\u001b[0m\u001b[0;34m=\u001b[0m\u001b[0mTimes\u001b[0m\u001b[0;34m)\u001b[0m\u001b[0;34m\u001b[0m\u001b[0;34m\u001b[0m\u001b[0m\n\u001b[0m",
      "\u001b[0;31mNameError\u001b[0m: name 'Times' is not defined"
     ]
    }
   ],
   "source": [
    "mod = GW.waveform(IFO='L1', index=None, whiten=Times)\n",
    "\n",
    "\n"
   ]
  },
  {
   "cell_type": "code",
   "execution_count": null,
   "id": "concerned-relations",
   "metadata": {},
   "outputs": [],
   "source": [
    "d = my_whiten(GW.data['L1'], GW.psd['L1'])\n",
    "plt.plot(np.array(d.times) - np.mean(np.array(GW.samples['L1_time'])), d)\n",
    "plt.xlim(-0.5, 0.1)\n",
    "plt.ylim(-100,100)\n",
    "plt.show()"
   ]
  },
  {
   "cell_type": "code",
   "execution_count": null,
   "id": "prompt-catch",
   "metadata": {},
   "outputs": [],
   "source": [
    "d = GW.data_w['L1']\n",
    "plt.plot(np.array(d.times) - np.mean(np.array(GW.samples['L1_time'])), d)\n",
    "plt.xlim(-0.5, 0.1)\n",
    "plt.ylim(-10,10)\n",
    "plt.show()"
   ]
  },
  {
   "cell_type": "code",
   "execution_count": null,
   "id": "confidential-plastic",
   "metadata": {},
   "outputs": [],
   "source": [
    "14446.382/0.00053577966"
   ]
  },
  {
   "cell_type": "code",
   "execution_count": null,
   "id": "behind-palace",
   "metadata": {},
   "outputs": [],
   "source": [
    "np.array(GW.data['L1'].times)[-1]-np.array(GW.data['L1'].times)[0]"
   ]
  },
  {
   "cell_type": "code",
   "execution_count": null,
   "id": "spanish-memorabilia",
   "metadata": {},
   "outputs": [],
   "source": [
    "np.mean(np.array(GW.samples['L1_time']))"
   ]
  },
  {
   "cell_type": "code",
   "execution_count": null,
   "id": "equipped-fundamentals",
   "metadata": {},
   "outputs": [],
   "source": [
    "m = GW.waveform(IFO='L1', index=None, whiten=False)\n",
    "m.dx = 0.5/min(GW.f_high.values())\n",
    "\n",
    "from gwpy.frequencyseries import FrequencySeries\n",
    "\n",
    "fS = np.array(GW.psd['L1'])\n",
    "\n",
    "df = fS[1,0]\n",
    "fS_new = np.zeros((int(10000./df),2))\n",
    "fS_new[:len(fS)] = fS\n",
    "fS_new[:,0] = np.arange(len(fS_new))*df\n",
    "fS_new[len(fS):,1] = np.inf\n",
    "\n",
    "\n",
    "asd = FrequencySeries(np.sqrt(fS_new[:,1]), frequencies=fS_new[:,0])\n",
    "\n",
    "\n",
    "\n",
    "m.whiten()"
   ]
  },
  {
   "cell_type": "code",
   "execution_count": null,
   "id": "informed-nudist",
   "metadata": {},
   "outputs": [],
   "source": [
    "dt = 0.5/min(GW.f_high.values())\n",
    "model = GW.samples.td_waveform(GW.approx, dt,\n",
    "                    1., f_ref=GW.f_ref,\n",
    "                    ind=100, project='L1')\n",
    "model.dx = dt\n",
    "\n",
    "plt.plot(model.times, model.whiten())\n",
    "plt.show()"
   ]
  },
  {
   "cell_type": "code",
   "execution_count": null,
   "id": "pediatric-arrival",
   "metadata": {},
   "outputs": [],
   "source": [
    "from gwpy.timeseries import TimeSeries\n",
    "N=10000\n",
    "dt = 1/1024#0.5/min(GW.f_high.values())\n",
    "m = TimeSeries(np.random.normal(size=N), times=dt*np.arange(N))\n",
    "m.whiten()"
   ]
  },
  {
   "cell_type": "code",
   "execution_count": null,
   "id": "accredited-singles",
   "metadata": {},
   "outputs": [],
   "source": [
    "2**np.ceil(np.log2(2*min(GW.f_high.values())))"
   ]
  },
  {
   "cell_type": "code",
   "execution_count": null,
   "id": "temporal-participant",
   "metadata": {},
   "outputs": [],
   "source": [
    "GW.samples['log_likelihood'][1]"
   ]
  },
  {
   "cell_type": "code",
   "execution_count": null,
   "id": "cutting-means",
   "metadata": {},
   "outputs": [],
   "source": []
  }
 ],
 "metadata": {
  "kernelspec": {
   "display_name": "Python 3",
   "language": "python",
   "name": "python3"
  },
  "language_info": {
   "codemirror_mode": {
    "name": "ipython",
    "version": 3
   },
   "file_extension": ".py",
   "mimetype": "text/x-python",
   "name": "python",
   "nbconvert_exporter": "python",
   "pygments_lexer": "ipython3",
   "version": "3.9.1"
  }
 },
 "nbformat": 4,
 "nbformat_minor": 5
}
